{
 "cells": [
  {
   "cell_type": "code",
   "execution_count": 2,
   "metadata": {},
   "outputs": [],
   "source": [
    "# import library\n",
    "import pandas as pd\n",
    "from sklearn.preprocessing import StandardScaler\n",
    "from sklearn.model_selection import train_test_split\n",
    "from sklearn.linear_model import LogisticRegression\n",
    "from  sklearn import svm\n",
    "\n",
    "from sklearn.metrics import accuracy_score, classification_report\n",
    "#import pickle5 as pickle\n"
   ]
  },
  {
   "cell_type": "code",
   "execution_count": 3,
   "metadata": {},
   "outputs": [],
   "source": [
    "df = pd.read_csv(r\"D:\\Minor_python\\data.csv\")\n",
    "\n",
    "def create_model(data): \n",
    "  X = data.drop(['diagnosis'], axis=1)\n",
    "  y = data['diagnosis']\n",
    "    # scale the data\n",
    "  scaler = StandardScaler()\n",
    "  X = scaler.fit_transform(X)\n",
    "  \n",
    "  # split the data\n",
    "  X_train, X_test, y_train, y_test = train_test_split(\n",
    "    X, y, test_size=0.2, random_state=42\n",
    "  )\n",
    "  \n",
    "    # train the model\n",
    "  model = LogisticRegression()\n",
    "  \n",
    "  model.fit(X_train, y_train)\n",
    "  \n",
    "  # test model\n",
    "  y_pred = model.predict(X_test)\n",
    "  print('Accuracy of our model: ', accuracy_score(y_test, y_pred))\n",
    "  print(\"Classification report: \\n\", classification_report(y_test, y_pred))\n",
    "  \n",
    "  X = [[0, 0], [2, 2]]\n",
    "  y = [0.5, 2.5]\n",
    "  regr = svm.SVR()\n",
    "  regr.fit(X, y)\n",
    "  regr.predict([[1, 1]])\n",
    "\n",
    "  return model, scaler\n",
    "\n",
    "\n",
    "\n",
    "\n",
    "  \n"
   ]
  },
  {
   "cell_type": "code",
   "execution_count": 4,
   "metadata": {},
   "outputs": [
    {
     "name": "stdout",
     "output_type": "stream",
     "text": [
      "Accuracy of our model:  0.9736842105263158\n",
      "Classification report: \n",
      "               precision    recall  f1-score   support\n",
      "\n",
      "           0       0.97      0.99      0.98        71\n",
      "           1       0.98      0.95      0.96        43\n",
      "\n",
      "    accuracy                           0.97       114\n",
      "   macro avg       0.97      0.97      0.97       114\n",
      "weighted avg       0.97      0.97      0.97       114\n",
      "\n"
     ]
    },
    {
     "name": "stderr",
     "output_type": "stream",
     "text": [
      "<>:2: SyntaxWarning: invalid escape sequence '\\M'\n",
      "<>:2: SyntaxWarning: invalid escape sequence '\\M'\n",
      "C:\\Users\\Sameer Gairhe\\AppData\\Local\\Temp\\ipykernel_3120\\1922838701.py:2: SyntaxWarning: invalid escape sequence '\\M'\n",
      "  data = pd.read_csv(\"D:\\Minor_python\\data.csv\")\n"
     ]
    }
   ],
   "source": [
    "def get_clean_data():\n",
    "  data = pd.read_csv(\"D:\\Minor_python\\data.csv\")\n",
    "  \n",
    "  data = data.drop(['Unnamed: 32', 'id'], axis=1)\n",
    "  \n",
    "  data['diagnosis'] = data['diagnosis'].map({ 'M': 1, 'B': 0 })\n",
    "  \n",
    "  return data\n",
    "\n",
    "\n",
    "def main():\n",
    "  data = get_clean_data()\n",
    "\n",
    "  model, scaler = create_model(data)\n",
    "\n",
    "\n",
    "if __name__ == '__main__':\n",
    "  main()\n"
   ]
  }
 ],
 "metadata": {
  "kernelspec": {
   "display_name": "env",
   "language": "python",
   "name": "python3"
  },
  "language_info": {
   "codemirror_mode": {
    "name": "ipython",
    "version": 3
   },
   "file_extension": ".py",
   "mimetype": "text/x-python",
   "name": "python",
   "nbconvert_exporter": "python",
   "pygments_lexer": "ipython3",
   "version": "3.12.1"
  }
 },
 "nbformat": 4,
 "nbformat_minor": 2
}
